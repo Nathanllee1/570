{
 "cells": [
  {
   "cell_type": "code",
   "execution_count": 2,
   "metadata": {},
   "outputs": [],
   "source": [
    "import pyedflib\n",
    "import numpy as np\n",
    "import pandas as pd"
   ]
  },
  {
   "cell_type": "code",
   "execution_count": 2,
   "metadata": {},
   "outputs": [],
   "source": [
    "f = pyedflib.EdfReader('S001R03.edf')\n",
    "n = f.signals_in_file\n",
    "signal_labels = f.getSignalLabels()\n",
    "sigbufs = np.zeros((n, f.getNSamples()[0]))\n",
    "for i in np.arange(n):\n",
    "        sigbufs[i, :] = f.readSignal(i)"
   ]
  },
  {
   "cell_type": "code",
   "execution_count": 6,
   "metadata": {},
   "outputs": [
    {
     "data": {
      "text/plain": [
       "array([[ -57.,  -49.,  -55., ...,    0.,    0.,    0.],\n",
       "       [ -13.,  -11.,  -17., ...,    0.,    0.,    0.],\n",
       "       [ -15.,  -10.,  -16., ...,    0.,    0.,    0.],\n",
       "       ...,\n",
       "       [ -56.,  -70.,  -77., ...,    0.,    0.,    0.],\n",
       "       [-124., -149., -153., ...,    0.,    0.,    0.],\n",
       "       [ -28.,  -40.,  -37., ...,    0.,    0.,    0.]])"
      ]
     },
     "execution_count": 6,
     "metadata": {},
     "output_type": "execute_result"
    }
   ],
   "source": [
    "sigbufs"
   ]
  },
  {
   "cell_type": "code",
   "execution_count": 9,
   "metadata": {},
   "outputs": [
    {
     "data": {
      "text/plain": [
       "(array([  0. ,   4.2,   8.3,  12.5,  16.6,  20.8,  24.9,  29.1,  33.2,\n",
       "         37.4,  41.5,  45.7,  49.8,  54. ,  58.1,  62.3,  66.4,  70.6,\n",
       "         74.7,  78.9,  83. ,  87.2,  91.3,  95.5,  99.6, 103.8, 107.9,\n",
       "        112.1, 116.2, 120.4]),\n",
       " array([4.2, 4.1, 4.2, 4.1, 4.2, 4.1, 4.2, 4.1, 4.2, 4.1, 4.2, 4.1, 4.2,\n",
       "        4.1, 4.2, 4.1, 4.2, 4.1, 4.2, 4.1, 4.2, 4.1, 4.2, 4.1, 4.2, 4.1,\n",
       "        4.2, 4.1, 4.2, 4.1]),\n",
       " array(['T0', 'T2', 'T0', 'T1', 'T0', 'T1', 'T0', 'T2', 'T0', 'T2', 'T0',\n",
       "        'T1', 'T0', 'T1', 'T0', 'T2', 'T0', 'T1', 'T0', 'T2', 'T0', 'T2',\n",
       "        'T0', 'T1', 'T0', 'T1', 'T0', 'T2', 'T0', 'T1'], dtype='<U2'))"
      ]
     },
     "execution_count": 9,
     "metadata": {},
     "output_type": "execute_result"
    }
   ],
   "source": [
    "f.readAnnotations()"
   ]
  },
  {
   "cell_type": "code",
   "execution_count": 5,
   "metadata": {},
   "outputs": [
    {
     "name": "stdout",
     "output_type": "stream",
     "text": [
      "['Fc5.', 'Fc3.', 'Fc1.', 'Fcz.', 'Fc2.', 'Fc4.', 'Fc6.', 'C5..', 'C3..', 'C1..', 'Cz..', 'C2..', 'C4..', 'C6..', 'Cp5.', 'Cp3.', 'Cp1.', 'Cpz.', 'Cp2.', 'Cp4.', 'Cp6.', 'Fp1.', 'Fpz.', 'Fp2.', 'Af7.', 'Af3.', 'Afz.', 'Af4.', 'Af8.', 'F7..', 'F5..', 'F3..', 'F1..', 'Fz..', 'F2..', 'F4..', 'F6..', 'F8..', 'Ft7.', 'Ft8.', 'T7..', 'T8..', 'T9..', 'T10.', 'Tp7.', 'Tp8.', 'P7..', 'P5..', 'P3..', 'P1..', 'Pz..', 'P2..', 'P4..', 'P6..', 'P8..', 'Po7.', 'Po3.', 'Poz.', 'Po4.', 'Po8.', 'O1..', 'Oz..', 'O2..', 'Iz..']\n"
     ]
    }
   ],
   "source": [
    "print(signal_labels)"
   ]
  },
  {
   "cell_type": "markdown",
   "metadata": {},
   "source": []
  },
  {
   "cell_type": "code",
   "execution_count": 8,
   "metadata": {},
   "outputs": [
    {
     "data": {
      "text/plain": [
       "array([[1.17212826e-01, 7.89865072e-01, 3.28104122e-01, ...,\n",
       "        3.86472268e-01, 3.69335047e-01, 1.41641529e-01],\n",
       "       [1.42593227e-01, 6.87057279e-01, 6.84998994e-03, ...,\n",
       "        3.98792031e-01, 5.02719082e-01, 7.11478231e-01],\n",
       "       [4.80823039e-01, 7.52651049e-01, 3.18079401e-01, ...,\n",
       "        8.96344889e-02, 9.96336701e-01, 5.65946850e-01],\n",
       "       ...,\n",
       "       [8.38644708e-01, 3.22985311e-01, 3.62056661e-01, ...,\n",
       "        4.97740455e-01, 7.51389677e-01, 6.18989545e-01],\n",
       "       [6.83782077e-01, 8.37704980e-01, 9.82935937e-01, ...,\n",
       "        4.21347313e-01, 6.08578870e-01, 1.45124470e-01],\n",
       "       [8.81731538e-01, 9.26092065e-01, 3.89016607e-01, ...,\n",
       "        2.41020750e-01, 2.90063645e-04, 3.42974555e-01]])"
      ]
     },
     "execution_count": 8,
     "metadata": {},
     "output_type": "execute_result"
    }
   ],
   "source": [
    "np.random.rand(120, 64)"
   ]
  },
  {
   "cell_type": "code",
   "execution_count": 6,
   "metadata": {},
   "outputs": [
    {
     "name": "stdout",
     "output_type": "stream",
     "text": [
      "(64, 20000)\n"
     ]
    }
   ],
   "source": [
    "import urllib.request\n",
    "import numpy as np\n",
    "import pyedflib\n",
    "\n",
    "timeArray = np.array([round(x,5) for x in np.arange(0,120,.00625)])\n",
    "timeArray = timeArray.reshape(19200,1)\n",
    "reader = pyedflib.EdfReader('S001R03.edf') # convert this to a function or some shit and loop through bro. and remember to reader.close()\n",
    "annotations = reader.readAnnotations()\n",
    "intervals = np.append(annotations[0],[120])\n",
    "codes = annotations[2]\n",
    "codeArray = []     \n",
    "counter = 1\n",
    "for timeVal in timeArray:\n",
    "    if timeVal == 120:\n",
    "        break\n",
    "    elif timeVal / intervals[counter] == 1.0:\n",
    "        counter += 1\n",
    "\n",
    "    codeArray.append(codes[counter - 1])\n",
    "\n",
    "invertCodeArray = np.array(codeArray).reshape(19200,1)\n",
    "numSignals = reader.signals_in_file\n",
    "signal_labels = reader.getSignalLabels()\n",
    "dataset = np.zeros((numSignals, reader.getNSamples()[0]))\n",
    "print(dataset.shape)\n",
    "for signal in np.arange(numSignals):\n",
    "    dataset[signal, :] = reader.readSignal(signal)\n",
    "\n",
    "dataset = dataset[:,:-800].transpose()\n",
    "masterSet = np.concatenate((timeArray,invertCodeArray,dataset),axis=1)\n"
   ]
  },
  {
   "cell_type": "code",
   "execution_count": 7,
   "metadata": {},
   "outputs": [
    {
     "data": {
      "text/plain": [
       "array([['0.0', 'T0', '-57.0', ..., '-56.0', '-124.0', '-28.0'],\n",
       "       ['0.00625', 'T0', '-49.0', ..., '-70.0', '-149.0', '-40.0'],\n",
       "       ['0.0125', 'T0', '-55.0', ..., '-77.0', '-153.0', '-37.0'],\n",
       "       ...,\n",
       "       ['119.98125', 'T0', '7.0', ..., '81.0', '87.0', '52.0'],\n",
       "       ['119.9875', 'T0', '-5.0', ..., '74.0', '80.0', '48.0'],\n",
       "       ['119.99375', 'T0', '-22.0', ..., '57.0', '68.0', '29.0']],\n",
       "      dtype='<U32')"
      ]
     },
     "execution_count": 7,
     "metadata": {},
     "output_type": "execute_result"
    }
   ],
   "source": [
    "masterSet"
   ]
  },
  {
   "cell_type": "code",
   "execution_count": 9,
   "metadata": {},
   "outputs": [],
   "source": [
    "pd.DataFrame(masterSet).to_csv(\"data.csv\")"
   ]
  }
 ],
 "metadata": {
  "kernelspec": {
   "display_name": "base",
   "language": "python",
   "name": "python3"
  },
  "language_info": {
   "codemirror_mode": {
    "name": "ipython",
    "version": 3
   },
   "file_extension": ".py",
   "mimetype": "text/x-python",
   "name": "python",
   "nbconvert_exporter": "python",
   "pygments_lexer": "ipython3",
   "version": "3.11.5"
  }
 },
 "nbformat": 4,
 "nbformat_minor": 2
}
